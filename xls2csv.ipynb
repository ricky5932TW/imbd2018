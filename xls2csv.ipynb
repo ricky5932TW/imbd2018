{
 "cells": [
  {
   "cell_type": "code",
   "execution_count": 16,
   "metadata": {},
   "outputs": [],
   "source": [
    "import pandas as pd\n",
    "import numpy as np\n",
    "import os\n",
    "from tqdm import tqdm"
   ]
  },
  {
   "cell_type": "code",
   "execution_count": 21,
   "metadata": {},
   "outputs": [
    {
     "name": "stderr",
     "output_type": "stream",
     "text": [
      "100%|██████████| 40/40 [00:03<00:00, 10.07it/s]\n",
      "100%|██████████| 10/10 [00:00<00:00, 10.37it/s]"
     ]
    },
    {
     "name": "stdout",
     "output_type": "stream",
     "text": [
      "done\n"
     ]
    },
    {
     "name": "stderr",
     "output_type": "stream",
     "text": [
      "\n"
     ]
    }
   ],
   "source": [
    "trainpath = 'train_40'\n",
    "testpath = 'test_10'\n",
    "trainfiles = os.listdir(trainpath)\n",
    "testfiles = os.listdir(testpath)\n",
    "\n",
    "new_trainpath = 'train_40_csv'\n",
    "new_testpath = 'test_10_csv'\n",
    "\n",
    "# create new folders\n",
    "if not os.path.exists(new_trainpath):\n",
    "    os.makedirs(new_trainpath)\n",
    "if not os.path.exists(new_testpath):\n",
    "    os.makedirs(new_testpath)\n",
    "\n",
    "# read xls\n",
    "for file in tqdm(trainfiles):\n",
    "    data = pd.read_excel(os.path.join(trainpath, file))\n",
    "    ans = data.iloc[-1, 0]\n",
    "    data = data.iloc[:-1, :].reset_index(drop=True)\n",
    "    data['ans'] = ans\n",
    "    # only keep the numeric in ans\n",
    "    data['ans'] = data['ans'].apply(lambda x: ''.join([i for i in x if i.isdigit() or i == '.']))\n",
    "    #add column names\n",
    "    data.columns = ['fea1', 'fea2', 'fea3', 'fea4', 'ans']\n",
    "    # save to csv\n",
    "    data.to_csv(os.path.join(new_trainpath, file.replace('xls', 'csv')), index=False)\n",
    "for file in tqdm(testfiles):\n",
    "    data = pd.read_excel(os.path.join(testpath, file))\n",
    "    ans = data.iloc[-1, 0]\n",
    "    data = data.iloc[:-1, :].reset_index(drop=True)\n",
    "    data['ans'] = ans\n",
    "    # only keep the numeric in ans\n",
    "    data['ans'] = data['ans'].apply(lambda x: ''.join([i for i in x if i.isdigit() or i == '.']))\n",
    "    #add column names\n",
    "    data.columns = ['fea1', 'fea2', 'fea3', 'fea4', 'ans']\n",
    "    # save to csv\n",
    "    data.to_csv(os.path.join\n",
    "                (new_testpath, file.replace('xls', 'csv')), index=False)\n",
    "    \n",
    "print('done')"
   ]
  }
 ],
 "metadata": {
  "kernelspec": {
   "display_name": "torch",
   "language": "python",
   "name": "python3"
  },
  "language_info": {
   "codemirror_mode": {
    "name": "ipython",
    "version": 3
   },
   "file_extension": ".py",
   "mimetype": "text/x-python",
   "name": "python",
   "nbconvert_exporter": "python",
   "pygments_lexer": "ipython3",
   "version": "3.11.11"
  }
 },
 "nbformat": 4,
 "nbformat_minor": 2
}
